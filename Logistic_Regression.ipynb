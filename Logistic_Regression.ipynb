{
  "nbformat": 4,
  "nbformat_minor": 0,
  "metadata": {
    "colab": {
      "provenance": [],
      "machine_shape": "hm"
    },
    "kernelspec": {
      "name": "python3",
      "display_name": "Python 3"
    },
    "widgets": {
      "application/vnd.jupyter.widget-state+json": {
        "879be6bd8b954f27996af8bb1f2468f9": {
          "model_module": "@jupyter-widgets/controls",
          "model_name": "HBoxModel",
          "state": {
            "_view_name": "HBoxView",
            "_dom_classes": [],
            "_model_name": "HBoxModel",
            "_view_module": "@jupyter-widgets/controls",
            "_model_module_version": "1.5.0",
            "_view_count": null,
            "_view_module_version": "1.5.0",
            "box_style": "",
            "layout": "IPY_MODEL_274a93b995bb4f9591c75db9011c6f47",
            "_model_module": "@jupyter-widgets/controls",
            "children": [
              "IPY_MODEL_92ccde899b9645e3a19f594632b595cd",
              "IPY_MODEL_ca39e79a46634e75a780a44d099811b4"
            ]
          },
          "model_module_version": "1.5.0"
        },
        "274a93b995bb4f9591c75db9011c6f47": {
          "model_module": "@jupyter-widgets/base",
          "model_name": "LayoutModel",
          "state": {
            "_view_name": "LayoutView",
            "grid_template_rows": null,
            "right": null,
            "justify_content": null,
            "_view_module": "@jupyter-widgets/base",
            "overflow": null,
            "_model_module_version": "1.2.0",
            "_view_count": null,
            "flex_flow": null,
            "width": null,
            "min_width": null,
            "border": null,
            "align_items": null,
            "bottom": null,
            "_model_module": "@jupyter-widgets/base",
            "top": null,
            "grid_column": null,
            "overflow_y": null,
            "overflow_x": null,
            "grid_auto_flow": null,
            "grid_area": null,
            "grid_template_columns": null,
            "flex": null,
            "_model_name": "LayoutModel",
            "justify_items": null,
            "grid_row": null,
            "max_height": null,
            "align_content": null,
            "visibility": null,
            "align_self": null,
            "height": null,
            "min_height": null,
            "padding": null,
            "grid_auto_rows": null,
            "grid_gap": null,
            "max_width": null,
            "order": null,
            "_view_module_version": "1.2.0",
            "grid_template_areas": null,
            "object_position": null,
            "object_fit": null,
            "grid_auto_columns": null,
            "margin": null,
            "display": null,
            "left": null
          },
          "model_module_version": "1.2.0"
        },
        "92ccde899b9645e3a19f594632b595cd": {
          "model_module": "@jupyter-widgets/controls",
          "model_name": "FloatProgressModel",
          "state": {
            "_view_name": "ProgressView",
            "style": "IPY_MODEL_1d5a9d7b379147ffb5a3e3b888ab07e7",
            "_dom_classes": [],
            "description": "100%",
            "_model_name": "FloatProgressModel",
            "bar_style": "success",
            "max": 9,
            "_view_module": "@jupyter-widgets/controls",
            "_model_module_version": "1.5.0",
            "value": 9,
            "_view_count": null,
            "_view_module_version": "1.5.0",
            "orientation": "horizontal",
            "min": 0,
            "description_tooltip": null,
            "_model_module": "@jupyter-widgets/controls",
            "layout": "IPY_MODEL_0af1caa7e58d4237878a2757129bef55"
          },
          "model_module_version": "1.5.0"
        },
        "ca39e79a46634e75a780a44d099811b4": {
          "model_module": "@jupyter-widgets/controls",
          "model_name": "HTMLModel",
          "state": {
            "_view_name": "HTMLView",
            "style": "IPY_MODEL_eb3e12512e5a4854b56134044d8909b7",
            "_dom_classes": [],
            "description": "",
            "_model_name": "HTMLModel",
            "placeholder": "​",
            "_view_module": "@jupyter-widgets/controls",
            "_model_module_version": "1.5.0",
            "value": " 9/9 [44:14&lt;00:00, 294.93s/it]",
            "_view_count": null,
            "_view_module_version": "1.5.0",
            "description_tooltip": null,
            "_model_module": "@jupyter-widgets/controls",
            "layout": "IPY_MODEL_4c555b39103441838bb87311d849f37f"
          },
          "model_module_version": "1.5.0"
        },
        "1d5a9d7b379147ffb5a3e3b888ab07e7": {
          "model_module": "@jupyter-widgets/controls",
          "model_name": "ProgressStyleModel",
          "state": {
            "_view_name": "StyleView",
            "_model_name": "ProgressStyleModel",
            "description_width": "initial",
            "_view_module": "@jupyter-widgets/base",
            "_model_module_version": "1.5.0",
            "_view_count": null,
            "_view_module_version": "1.2.0",
            "bar_color": null,
            "_model_module": "@jupyter-widgets/controls"
          },
          "model_module_version": "1.5.0"
        },
        "0af1caa7e58d4237878a2757129bef55": {
          "model_module": "@jupyter-widgets/base",
          "model_name": "LayoutModel",
          "state": {
            "_view_name": "LayoutView",
            "grid_template_rows": null,
            "right": null,
            "justify_content": null,
            "_view_module": "@jupyter-widgets/base",
            "overflow": null,
            "_model_module_version": "1.2.0",
            "_view_count": null,
            "flex_flow": null,
            "width": null,
            "min_width": null,
            "border": null,
            "align_items": null,
            "bottom": null,
            "_model_module": "@jupyter-widgets/base",
            "top": null,
            "grid_column": null,
            "overflow_y": null,
            "overflow_x": null,
            "grid_auto_flow": null,
            "grid_area": null,
            "grid_template_columns": null,
            "flex": null,
            "_model_name": "LayoutModel",
            "justify_items": null,
            "grid_row": null,
            "max_height": null,
            "align_content": null,
            "visibility": null,
            "align_self": null,
            "height": null,
            "min_height": null,
            "padding": null,
            "grid_auto_rows": null,
            "grid_gap": null,
            "max_width": null,
            "order": null,
            "_view_module_version": "1.2.0",
            "grid_template_areas": null,
            "object_position": null,
            "object_fit": null,
            "grid_auto_columns": null,
            "margin": null,
            "display": null,
            "left": null
          },
          "model_module_version": "1.2.0"
        },
        "eb3e12512e5a4854b56134044d8909b7": {
          "model_module": "@jupyter-widgets/controls",
          "model_name": "DescriptionStyleModel",
          "state": {
            "_view_name": "StyleView",
            "_model_name": "DescriptionStyleModel",
            "description_width": "",
            "_view_module": "@jupyter-widgets/base",
            "_model_module_version": "1.5.0",
            "_view_count": null,
            "_view_module_version": "1.2.0",
            "_model_module": "@jupyter-widgets/controls"
          },
          "model_module_version": "1.5.0"
        },
        "4c555b39103441838bb87311d849f37f": {
          "model_module": "@jupyter-widgets/base",
          "model_name": "LayoutModel",
          "state": {
            "_view_name": "LayoutView",
            "grid_template_rows": null,
            "right": null,
            "justify_content": null,
            "_view_module": "@jupyter-widgets/base",
            "overflow": null,
            "_model_module_version": "1.2.0",
            "_view_count": null,
            "flex_flow": null,
            "width": null,
            "min_width": null,
            "border": null,
            "align_items": null,
            "bottom": null,
            "_model_module": "@jupyter-widgets/base",
            "top": null,
            "grid_column": null,
            "overflow_y": null,
            "overflow_x": null,
            "grid_auto_flow": null,
            "grid_area": null,
            "grid_template_columns": null,
            "flex": null,
            "_model_name": "LayoutModel",
            "justify_items": null,
            "grid_row": null,
            "max_height": null,
            "align_content": null,
            "visibility": null,
            "align_self": null,
            "height": null,
            "min_height": null,
            "padding": null,
            "grid_auto_rows": null,
            "grid_gap": null,
            "max_width": null,
            "order": null,
            "_view_module_version": "1.2.0",
            "grid_template_areas": null,
            "object_position": null,
            "object_fit": null,
            "grid_auto_columns": null,
            "margin": null,
            "display": null,
            "left": null
          },
          "model_module_version": "1.2.0"
        }
      }
    }
  },
  "cells": [
    {
      "cell_type": "markdown",
      "metadata": {
        "id": "PD0flZTiPg-7"
      },
      "source": [
        "# Modelling"
      ]
    },
    {
      "cell_type": "code",
      "metadata": {
        "id": "sTwQDs6irF6E"
      },
      "source": [
        "def confusion_mat(test_y,predict_y):\n",
        "    ''' Function to Visualize the Confusion Matrix'''\n",
        "\n",
        "    labels = [0,1]\n",
        "    plt.figure(figsize=(6,6))\n",
        "    cmap=sns.light_palette(\"blue\")\n",
        "    C = confusion_matrix(test_y, predict_y)\n",
        "    print(\"Percentage of misclassified points \",(len(test_y)-np.trace(C))/len(test_y)*100)\n",
        "    sns.heatmap(C, cmap=\"Blues\",annot=True,annot_kws={\"size\": 16},fmt='g')\n",
        "    plt.xlabel('Predicted Class')\n",
        "    plt.ylabel('Original Class')\n",
        "    plt.title('Confusion matrix')\n",
        "\n",
        "    plt.show()"
      ],
      "execution_count": null,
      "outputs": []
    },
    {
      "cell_type": "markdown",
      "metadata": {
        "id": "FOGjZ-e24GLL"
      },
      "source": [
        "## Logistic Regression"
      ]
    },
    {
      "cell_type": "code",
      "metadata": {
        "id": "ZnbWKFJN4NNy",
        "outputId": "359ad062-1df2-411d-9039-be62c2adfa46",
        "colab": {
          "base_uri": "https://localhost:8080/",
          "height": 1000,
          "referenced_widgets": [
            "879be6bd8b954f27996af8bb1f2468f9",
            "274a93b995bb4f9591c75db9011c6f47",
            "92ccde899b9645e3a19f594632b595cd",
            "ca39e79a46634e75a780a44d099811b4",
            "1d5a9d7b379147ffb5a3e3b888ab07e7",
            "0af1caa7e58d4237878a2757129bef55",
            "eb3e12512e5a4854b56134044d8909b7",
            "4c555b39103441838bb87311d849f37f"
          ]
        }
      },
      "source": [
        "#Setting the range of best K's to select from\n",
        "alpha = [10 ** x for x in range(-5, 4)]\n",
        "\n",
        "#storing all the Cross validation f1 scores\n",
        "cv_f1score_array=[]\n",
        "for i in tqdm(alpha):\n",
        "    logistic=LogisticRegression(penalty='l2',C=i,class_weight='balanced',n_jobs=-1)\n",
        "    logistic.fit(X_train,y_train)\n",
        "    sig_clf = CalibratedClassifierCV(logistic, method=\"sigmoid\",cv=2)\n",
        "    sig_clf.fit(X_train,y_train)\n",
        "    predict_y = sig_clf.predict(X_cv)\n",
        "    cv_f1score_array.append(f1_score(y_cv, predict_y,average='binary'))\n",
        "#displaying the F1 score for all hyperparameters\n",
        "for i in range(len(cv_f1score_array)):\n",
        "    print ('F1 score for : {} is {} '.format(alpha[i],cv_f1score_array[i]))\n",
        "\n",
        "#The best K after hyperparameter tuning\n",
        "best_alpha= np.argmax(cv_f1score_array)\n",
        "\n",
        "\n",
        "print( '\\n  Best alpha (hyperparameter) :',alpha[best_alpha]  ,'\\n')\n",
        "\n",
        "#plotting the changes of the performance metric with best hyperparameter\n",
        "fig, ax = plt.subplots()\n",
        "\n",
        "#plotting hyperparameter v/s F1score  graph\n",
        "ax.plot(alpha, cv_f1score_array)\n",
        "for i, txt in enumerate(np.round(cv_f1score_array,3)):\n",
        "    ax.annotate((alpha[i],np.round(txt,3)), (alpha[i],cv_f1score_array[i]))\n",
        "plt.grid()\n",
        "plt.title(\"Cross Validation F1 score for each alpha\")\n",
        "plt.xlabel(\"Alpha i's\")\n",
        "plt.ylabel(\"F1 score \")\n",
        "plt.show()\n",
        "\n",
        "#fitting the classifier with best hyperparameter\n",
        "logistic=LogisticRegression(penalty='l2',C=alpha[best_alpha],class_weight='balanced')\n",
        "logistic.fit(X_train,y_train)\n",
        "sig_clf = CalibratedClassifierCV(logistic, method=\"sigmoid\",cv=2)\n",
        "sig_clf.fit(X_train, y_train)\n",
        "\n",
        "#predicting actual labels\n",
        "pred_y=sig_clf.predict(X_test)\n",
        "\n",
        "#displaying the perfomance metric for train,cv and test data\n",
        "print('\\n Predicting F1 score for train,cv and test data with best hyperparameter \\n')\n",
        "pred_y_train = sig_clf.predict(X_train)\n",
        "print ('F1 score for train data : ',f1_score(y_train, pred_y_train,average='binary' ))\n",
        "pred_y_cv = sig_clf.predict(X_cv)\n",
        "print ('F1_score for cv data : ',f1_score(y_cv, pred_y_cv, average='binary'))\n",
        "pred_y_test = sig_clf.predict(X_test)\n",
        "print ('F1_score for test data : ',f1_score(y_test, pred_y_test, average='binary'))\n",
        "print('*'*100)\n",
        "print(\"Confusion Matrix for the Train Data \",'\\n')\n",
        "confusion_mat(y_train,pred_y_train)\n",
        "print('*'*100)\n",
        "print(\"Confusion Matrix for the Test Data \",'\\n')\n",
        "confusion_mat(y_test,pred_y_test)\n",
        "print('*'*100)"
      ],
      "execution_count": null,
      "outputs": [
        {
          "output_type": "display_data",
          "data": {
            "application/vnd.jupyter.widget-view+json": {
              "model_id": "879be6bd8b954f27996af8bb1f2468f9",
              "version_minor": 0,
              "version_major": 2
            },
            "text/plain": [
              "HBox(children=(FloatProgress(value=0.0, max=9.0), HTML(value='')))"
            ]
          },
          "metadata": {
            "tags": []
          }
        },
        {
          "output_type": "stream",
          "text": [
            "\n",
            "F1 score for : 1e-05 is 0.459546925566343 \n",
            "F1 score for : 0.0001 is 0.4551282051282052 \n",
            "F1 score for : 0.001 is 0.47352024922118374 \n",
            "F1 score for : 0.01 is 0.5153374233128835 \n",
            "F1 score for : 0.1 is 0.5471124620060791 \n",
            "F1 score for : 1 is 0.6114649681528662 \n",
            "F1 score for : 10 is 0.6225165562913908 \n",
            "F1 score for : 100 is 0.6619718309859154 \n",
            "F1 score for : 1000 is 0.6524822695035462 \n",
            "\n",
            "  Best alpha (hyperparameter) : 100 \n",
            "\n"
          ],
          "name": "stdout"
        },
        {
          "output_type": "display_data",
          "data": {
            "image/png": "[encoded data removed]",
            "text/plain": [
              "<Figure size 432x288 with 1 Axes>"
            ]
          },
          "metadata": {
            "tags": [],
            "needs_background": "light"
          }
        },
        {
          "output_type": "stream",
          "text": [
            "\n",
            " Predicting F1 score for train,cv and test data with best hyperparameter \n",
            "\n",
            "F1 score for train data :  0.8712535835287986\n",
            "F1_score for cv data :  0.6643109540636042\n",
            "F1_score for test data :  0.7483296213808462\n",
            "****************************************************************************************************\n",
            "Confusion Matrix for the Train Data  \n",
            "\n",
            "Percentage of misclassified points  2.238738330463156\n"
          ],
          "name": "stdout"
        },
        {
          "output_type": "display_data",
          "data": {
            "image/png": "[encoded data removed]",
            "text/plain": [
              "<Figure size 432x432 with 2 Axes>"
            ]
          },
          "metadata": {
            "tags": [],
            "needs_background": "light"
          }
        },
        {
          "output_type": "stream",
          "text": [
            "****************************************************************************************************\n",
            "Confusion Matrix for the Test Data  \n",
            "\n",
            "Percentage of misclassified points  0.9416666666666667\n"
          ],
          "name": "stdout"
        },
        {
          "output_type": "display_data",
          "data": {
            "image/png": "[encoded data removed]",
            "text/plain": [
              "<Figure size 432x432 with 2 Axes>"
            ]
          },
          "metadata": {
            "tags": [],
            "needs_background": "light"
          }
        },
        {
          "output_type": "stream",
          "text": [
            "****************************************************************************************************\n"
          ],
          "name": "stdout"
        }
      ]
    }
  ]
}