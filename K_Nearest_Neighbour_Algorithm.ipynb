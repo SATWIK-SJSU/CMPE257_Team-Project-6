{
  "nbformat": 4,
  "nbformat_minor": 0,
  "metadata": {
    "colab": {
      "provenance": [],
      "machine_shape": "hm"
    },
    "kernelspec": {
      "name": "python3",
      "display_name": "Python 3"
    },
    "widgets": {
      "application/vnd.jupyter.widget-state+json": {
        "f31c7a500e1c47b89859a4e80c19ccdf": {
          "model_module": "@jupyter-widgets/controls",
          "model_name": "HBoxModel",
          "state": {
            "_view_name": "HBoxView",
            "_dom_classes": [],
            "_model_name": "HBoxModel",
            "_view_module": "@jupyter-widgets/controls",
            "_model_module_version": "1.5.0",
            "_view_count": null,
            "_view_module_version": "1.5.0",
            "box_style": "",
            "layout": "IPY_MODEL_e0a97e3ff0104ef9bfc37f6ac072a751",
            "_model_module": "@jupyter-widgets/controls",
            "children": [
              "IPY_MODEL_6fe64d9b221e4a85a375fcf2e4af9e42",
              "IPY_MODEL_09be7baac56f4844a5976dae64b2b6b4"
            ]
          },
          "model_module_version": "1.5.0"
        },
        "e0a97e3ff0104ef9bfc37f6ac072a751": {
          "model_module": "@jupyter-widgets/base",
          "model_name": "LayoutModel",
          "state": {
            "_view_name": "LayoutView",
            "grid_template_rows": null,
            "right": null,
            "justify_content": null,
            "_view_module": "@jupyter-widgets/base",
            "overflow": null,
            "_model_module_version": "1.2.0",
            "_view_count": null,
            "flex_flow": null,
            "width": null,
            "min_width": null,
            "border": null,
            "align_items": null,
            "bottom": null,
            "_model_module": "@jupyter-widgets/base",
            "top": null,
            "grid_column": null,
            "overflow_y": null,
            "overflow_x": null,
            "grid_auto_flow": null,
            "grid_area": null,
            "grid_template_columns": null,
            "flex": null,
            "_model_name": "LayoutModel",
            "justify_items": null,
            "grid_row": null,
            "max_height": null,
            "align_content": null,
            "visibility": null,
            "align_self": null,
            "height": null,
            "min_height": null,
            "padding": null,
            "grid_auto_rows": null,
            "grid_gap": null,
            "max_width": null,
            "order": null,
            "_view_module_version": "1.2.0",
            "grid_template_areas": null,
            "object_position": null,
            "object_fit": null,
            "grid_auto_columns": null,
            "margin": null,
            "display": null,
            "left": null
          },
          "model_module_version": "1.2.0"
        },
        "6fe64d9b221e4a85a375fcf2e4af9e42": {
          "model_module": "@jupyter-widgets/controls",
          "model_name": "FloatProgressModel",
          "state": {
            "_view_name": "ProgressView",
            "style": "IPY_MODEL_e5914224a3414a60ab271e7100823a0e",
            "_dom_classes": [],
            "description": "100%",
            "_model_name": "FloatProgressModel",
            "bar_style": "success",
            "max": 6,
            "_view_module": "@jupyter-widgets/controls",
            "_model_module_version": "1.5.0",
            "value": 6,
            "_view_count": null,
            "_view_module_version": "1.5.0",
            "orientation": "horizontal",
            "min": 0,
            "description_tooltip": null,
            "_model_module": "@jupyter-widgets/controls",
            "layout": "IPY_MODEL_1e43e19669134f45ba57d936d912614f"
          },
          "model_module_version": "1.5.0"
        },
        "09be7baac56f4844a5976dae64b2b6b4": {
          "model_module": "@jupyter-widgets/controls",
          "model_name": "HTMLModel",
          "state": {
            "_view_name": "HTMLView",
            "style": "IPY_MODEL_b994bb7f642b4e959e4e464061fb70a3",
            "_dom_classes": [],
            "description": "",
            "_model_name": "HTMLModel",
            "placeholder": "​",
            "_view_module": "@jupyter-widgets/controls",
            "_model_module_version": "1.5.0",
            "value": " 6/6 [01:14&lt;00:00, 12.45s/it]",
            "_view_count": null,
            "_view_module_version": "1.5.0",
            "description_tooltip": null,
            "_model_module": "@jupyter-widgets/controls",
            "layout": "IPY_MODEL_bbfe72c5e4cb45e080abdb5f99d69966"
          },
          "model_module_version": "1.5.0"
        },
        "e5914224a3414a60ab271e7100823a0e": {
          "model_module": "@jupyter-widgets/controls",
          "model_name": "ProgressStyleModel",
          "state": {
            "_view_name": "StyleView",
            "_model_name": "ProgressStyleModel",
            "description_width": "initial",
            "_view_module": "@jupyter-widgets/base",
            "_model_module_version": "1.5.0",
            "_view_count": null,
            "_view_module_version": "1.2.0",
            "bar_color": null,
            "_model_module": "@jupyter-widgets/controls"
          },
          "model_module_version": "1.5.0"
        },
        "1e43e19669134f45ba57d936d912614f": {
          "model_module": "@jupyter-widgets/base",
          "model_name": "LayoutModel",
          "state": {
            "_view_name": "LayoutView",
            "grid_template_rows": null,
            "right": null,
            "justify_content": null,
            "_view_module": "@jupyter-widgets/base",
            "overflow": null,
            "_model_module_version": "1.2.0",
            "_view_count": null,
            "flex_flow": null,
            "width": null,
            "min_width": null,
            "border": null,
            "align_items": null,
            "bottom": null,
            "_model_module": "@jupyter-widgets/base",
            "top": null,
            "grid_column": null,
            "overflow_y": null,
            "overflow_x": null,
            "grid_auto_flow": null,
            "grid_area": null,
            "grid_template_columns": null,
            "flex": null,
            "_model_name": "LayoutModel",
            "justify_items": null,
            "grid_row": null,
            "max_height": null,
            "align_content": null,
            "visibility": null,
            "align_self": null,
            "height": null,
            "min_height": null,
            "padding": null,
            "grid_auto_rows": null,
            "grid_gap": null,
            "max_width": null,
            "order": null,
            "_view_module_version": "1.2.0",
            "grid_template_areas": null,
            "object_position": null,
            "object_fit": null,
            "grid_auto_columns": null,
            "margin": null,
            "display": null,
            "left": null
          },
          "model_module_version": "1.2.0"
        },
        "b994bb7f642b4e959e4e464061fb70a3": {
          "model_module": "@jupyter-widgets/controls",
          "model_name": "DescriptionStyleModel",
          "state": {
            "_view_name": "StyleView",
            "_model_name": "DescriptionStyleModel",
            "description_width": "",
            "_view_module": "@jupyter-widgets/base",
            "_model_module_version": "1.5.0",
            "_view_count": null,
            "_view_module_version": "1.2.0",
            "_model_module": "@jupyter-widgets/controls"
          },
          "model_module_version": "1.5.0"
        },
        "bbfe72c5e4cb45e080abdb5f99d69966": {
          "model_module": "@jupyter-widgets/base",
          "model_name": "LayoutModel",
          "state": {
            "_view_name": "LayoutView",
            "grid_template_rows": null,
            "right": null,
            "justify_content": null,
            "_view_module": "@jupyter-widgets/base",
            "overflow": null,
            "_model_module_version": "1.2.0",
            "_view_count": null,
            "flex_flow": null,
            "width": null,
            "min_width": null,
            "border": null,
            "align_items": null,
            "bottom": null,
            "_model_module": "@jupyter-widgets/base",
            "top": null,
            "grid_column": null,
            "overflow_y": null,
            "overflow_x": null,
            "grid_auto_flow": null,
            "grid_area": null,
            "grid_template_columns": null,
            "flex": null,
            "_model_name": "LayoutModel",
            "justify_items": null,
            "grid_row": null,
            "max_height": null,
            "align_content": null,
            "visibility": null,
            "align_self": null,
            "height": null,
            "min_height": null,
            "padding": null,
            "grid_auto_rows": null,
            "grid_gap": null,
            "max_width": null,
            "order": null,
            "_view_module_version": "1.2.0",
            "grid_template_areas": null,
            "object_position": null,
            "object_fit": null,
            "grid_auto_columns": null,
            "margin": null,
            "display": null,
            "left": null
          },
          "model_module_version": "1.2.0"
        }
      }
    }
  },
  "cells": [
    {
      "cell_type": "markdown",
      "metadata": {
        "id": "PD0flZTiPg-7"
      },
      "source": [
        "# Modelling"
      ]
    },
    {
      "cell_type": "code",
      "metadata": {
        "id": "sTwQDs6irF6E"
      },
      "source": [
        "def confusion_mat(test_y,predict_y):\n",
        "    ''' Function to Visualize the Confusion Matrix'''\n",
        "\n",
        "    labels = [0,1]\n",
        "    plt.figure(figsize=(6,6))\n",
        "    cmap=sns.light_palette(\"blue\")\n",
        "    C = confusion_matrix(test_y, predict_y)\n",
        "    print(\"Percentage of misclassified points \",(len(test_y)-np.trace(C))/len(test_y)*100)\n",
        "    sns.heatmap(C, cmap=\"Blues\",annot=True,annot_kws={\"size\": 16},fmt='g')\n",
        "    plt.xlabel('Predicted Class')\n",
        "    plt.ylabel('Original Class')\n",
        "    plt.title('Confusion matrix')\n",
        "\n",
        "    plt.show()"
      ],
      "execution_count": null,
      "outputs": []
    },
    {
      "cell_type": "markdown",
      "metadata": {
        "id": "PvScTlH2y0ut"
      },
      "source": [
        "### K-Nearest Neighbour Algorithm"
      ]
    },
    {
      "cell_type": "code",
      "metadata": {
        "id": "zpff8YQ_y53p",
        "outputId": "973aea78-5bdd-4096-9bee-cf3778e6c9c9",
        "colab": {
          "base_uri": "https://localhost:8080/",
          "height": 1000,
          "referenced_widgets": [
            "f31c7a500e1c47b89859a4e80c19ccdf",
            "e0a97e3ff0104ef9bfc37f6ac072a751",
            "6fe64d9b221e4a85a375fcf2e4af9e42",
            "09be7baac56f4844a5976dae64b2b6b4",
            "e5914224a3414a60ab271e7100823a0e",
            "1e43e19669134f45ba57d936d912614f",
            "b994bb7f642b4e959e4e464061fb70a3",
            "bbfe72c5e4cb45e080abdb5f99d69966"
          ]
        }
      },
      "source": [
        "#Setting the range of best K's to select from\n",
        "alpha = [x for x in range(3, 15, 2)]\n",
        "\n",
        "#storing all the Cross validation f1 scores\n",
        "cv_f1score_array=[]\n",
        "for i in tqdm(alpha):\n",
        "    KNN=KNeighborsClassifier(n_neighbors=i,n_jobs=-1)\n",
        "    KNN.fit(X_train,y_train)\n",
        "    predict_y = KNN.predict(X_cv)\n",
        "    cv_f1score_array.append(f1_score(y_cv, predict_y,average='binary'))\n",
        "\n",
        "#displaying the F1 score for all hyperparameters\n",
        "for i in range(len(cv_f1score_array)):\n",
        "    print ('F1 score for : {} is {} '.format(alpha[i],cv_f1score_array[i]))\n",
        "\n",
        "#The best K after hyperparameter tuning\n",
        "best_alpha_KNN = np.argmax(cv_f1score_array)\n",
        "\n",
        "\n",
        "print( '\\n  Best alpha (hyperparameter) :',alpha[best_alpha_KNN]  ,'\\n')\n",
        "\n",
        "#plotting the changes of the performance metric with best hyperparameter\n",
        "fig, ax = plt.subplots()\n",
        "\n",
        "\n",
        "#plotting hyperparameter v/s F1score  graph\n",
        "ax.plot(alpha, cv_f1score_array)\n",
        "for i, txt in enumerate(np.round(cv_f1score_array,3)):\n",
        "    ax.annotate((alpha[i],np.round(txt,3)), (alpha[i],cv_f1score_array[i]))\n",
        "plt.grid()\n",
        "plt.title(\"Cross Validation F1 score for each alpha\")\n",
        "plt.xlabel(\"Alpha i's\")\n",
        "plt.ylabel(\"F1 score \")\n",
        "plt.show()\n",
        "\n",
        "#fitting the classifier with best hyperparameter\n",
        "KNN=KNeighborsClassifier(n_neighbors=alpha[best_alpha_KNN],n_jobs=-1)\n",
        "KNN.fit(X_train, y_train)\n",
        "\n",
        "#predicting actual labels\n",
        "pred_y=KNN.predict(X_test)\n",
        "\n",
        "#displaying the perfomance metric for train,cv and test data\n",
        "print('\\n Predicting F1 score for train,cv and test data with best hyperparameter \\n')\n",
        "pred_y_train = KNN.predict(X_train)\n",
        "print ('F1 score for train data : ',f1_score(y_train, pred_y_train,average='binary' ))\n",
        "pred_y_cv = KNN.predict(X_cv)\n",
        "print ('F1_score for cv data : ',f1_score(y_cv, pred_y_cv, average='binary'))\n",
        "pred_y_test = KNN.predict(X_test)\n",
        "print ('F1_score for test data : ',f1_score(y_test, pred_y_test, average='binary'))\n",
        "print('*'*100)\n",
        "print(\"Confusion Matrix for the Train Data \",'\\n')\n",
        "confusion_mat(y_train,pred_y_train)\n",
        "print('*'*100)\n",
        "print(\"Confusion Matrix for the Test Data \",'\\n')\n",
        "confusion_mat(y_test,pred_y_test)\n",
        "print('*'*100)\n"
      ],
      "execution_count": null,
      "outputs": [
        {
          "output_type": "display_data",
          "data": {
            "application/vnd.jupyter.widget-view+json": {
              "model_id": "f31c7a500e1c47b89859a4e80c19ccdf",
              "version_minor": 0,
              "version_major": 2
            },
            "text/plain": [
              "HBox(children=(FloatProgress(value=0.0, max=6.0), HTML(value='')))"
            ]
          },
          "metadata": {
            "tags": []
          }
        },
        {
          "output_type": "stream",
          "text": [
            "\n",
            "F1 score for : 3 is 0.6122448979591838 \n",
            "F1 score for : 5 is 0.613861386138614 \n",
            "F1 score for : 7 is 0.5909090909090909 \n",
            "F1 score for : 9 is 0.6095238095238096 \n",
            "F1 score for : 11 is 0.6031746031746031 \n",
            "F1 score for : 13 is 0.6148867313915858 \n",
            "\n",
            "  Best alpha (hyperparameter) : 13 \n",
            "\n"
          ],
          "name": "stdout"
        },
        {
          "output_type": "display_data",
          "data": {
            "image/png": "[encoded data removed]",
            "text/plain": [
              "<Figure size 432x288 with 1 Axes>"
            ]
          },
          "metadata": {
            "tags": [],
            "needs_background": "light"
          }
        },
        {
          "output_type": "stream",
          "text": [
            "\n",
            " Predicting F1 score for train,cv and test data with best hyperparameter \n",
            "\n",
            "F1 score for train data :  0.9164840516191867\n",
            "F1_score for cv data :  0.6148867313915858\n",
            "F1_score for test data :  0.6452905811623246\n",
            "****************************************************************************************************\n",
            "Confusion Matrix for the Train Data  \n",
            "\n",
            "Percentage of misclassified points  1.5544276262122723\n"
          ],
          "name": "stdout"
        },
        {
          "output_type": "display_data",
          "data": {
            "image/png": "[encoded data removed]",
            "text/plain": [
              "<Figure size 432x432 with 2 Axes>"
            ]
          },
          "metadata": {
            "tags": [],
            "needs_background": "light"
          }
        },
        {
          "output_type": "stream",
          "text": [
            "****************************************************************************************************\n",
            "Confusion Matrix for the Test Data  \n",
            "\n",
            "Percentage of misclassified points  1.4749999999999999\n"
          ],
          "name": "stdout"
        },
        {
          "output_type": "display_data",
          "data": {
            "image/png": "[encoded data removed]",
            "text/plain": [
              "<Figure size 432x432 with 2 Axes>"
            ]
          },
          "metadata": {
            "tags": [],
            "needs_background": "light"
          }
        },
        {
          "output_type": "stream",
          "text": [
            "****************************************************************************************************\n"
          ],
          "name": "stdout"
        }
      ]
    }
  ]
}