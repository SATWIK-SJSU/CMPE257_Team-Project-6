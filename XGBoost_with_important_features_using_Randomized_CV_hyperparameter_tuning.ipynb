{
  "nbformat": 4,
  "nbformat_minor": 0,
  "metadata": {
    "colab": {
      "provenance": [],
      "machine_shape": "hm"
    },
    "kernelspec": {
      "name": "python3",
      "display_name": "Python 3"
    }
  },
  "cells": [
    {
      "cell_type": "markdown",
      "metadata": {
        "id": "PD0flZTiPg-7"
      },
      "source": [
        "# Modelling"
      ]
    },
    {
      "cell_type": "code",
      "metadata": {
        "id": "sTwQDs6irF6E"
      },
      "source": [
        "def confusion_mat(test_y,predict_y):\n",
        "    ''' Function to Visualize the Confusion Matrix'''\n",
        "\n",
        "    labels = [0,1]\n",
        "    plt.figure(figsize=(6,6))\n",
        "    cmap=sns.light_palette(\"blue\")\n",
        "    C = confusion_matrix(test_y, predict_y)\n",
        "    print(\"Percentage of misclassified points \",(len(test_y)-np.trace(C))/len(test_y)*100)\n",
        "    sns.heatmap(C, cmap=\"Blues\",annot=True,annot_kws={\"size\": 16},fmt='g')\n",
        "    plt.xlabel('Predicted Class')\n",
        "    plt.ylabel('Original Class')\n",
        "    plt.title('Confusion matrix')\n",
        "\n",
        "    plt.show()"
      ],
      "execution_count": null,
      "outputs": []
    },
    {
      "cell_type": "markdown",
      "metadata": {
        "id": "UEretq_uqqm8"
      },
      "source": [
        "### XGBoost with important features using Randomized CV hyperparameter tuning"
      ]
    },
    {
      "cell_type": "code",
      "metadata": {
        "id": "4rdtGnxYtFv7",
        "outputId": "8a2ce850-cab2-4795-d5dd-804dcc91db2a",
        "colab": {
          "base_uri": "https://localhost:8080/",
          "height": 580
        }
      },
      "source": [
        "x_cfl_h=XGBClassifier(scale_pos_weight=10)\n",
        "\n",
        "prams={\n",
        "    'learning_rate':[0.01,0.03,0.05,0.1,0.15,0.2],\n",
        "     'n_estimators':[100,200,500,1000,2000],\n",
        "     'max_depth':[3,5,10],\n",
        "    'colsample_bytree':[0.1,0.3,0.5,1],\n",
        "    'subsample':[0.1,0.3,0.5,1]\n",
        "}\n",
        "random_cfl1=RandomizedSearchCV(x_cfl_h,param_distributions=prams,n_jobs=-1,scoring='f1',verbose=10)\n",
        "random_cfl1.fit(X_train_XGB,y_train)"
      ],
      "execution_count": null,
      "outputs": [
        {
          "output_type": "stream",
          "text": [
            "Fitting 5 folds for each of 10 candidates, totalling 50 fits\n"
          ],
          "name": "stdout"
        },
        {
          "output_type": "stream",
          "text": [
            "[Parallel(n_jobs=-1)]: Using backend LokyBackend with 4 concurrent workers.\n",
            "[Parallel(n_jobs=-1)]: Done   5 tasks      | elapsed:  3.8min\n",
            "[Parallel(n_jobs=-1)]: Done  10 tasks      | elapsed:  5.7min\n",
            "[Parallel(n_jobs=-1)]: Done  17 tasks      | elapsed:  9.1min\n",
            "[Parallel(n_jobs=-1)]: Done  24 tasks      | elapsed: 13.8min\n",
            "[Parallel(n_jobs=-1)]: Done  33 tasks      | elapsed: 17.2min\n",
            "[Parallel(n_jobs=-1)]: Done  42 tasks      | elapsed: 19.3min\n",
            "[Parallel(n_jobs=-1)]: Done  50 out of  50 | elapsed: 31.7min finished\n"
          ],
          "name": "stderr"
        },
        {
          "output_type": "execute_result",
          "data": {
            "text/plain": [
              "RandomizedSearchCV(cv=None, error_score=nan,\n",
              "                   estimator=XGBClassifier(base_score=0.5, booster='gbtree',\n",
              "                                           colsample_bylevel=1,\n",
              "                                           colsample_bynode=1,\n",
              "                                           colsample_bytree=1, gamma=0,\n",
              "                                           learning_rate=0.1, max_delta_step=0,\n",
              "                                           max_depth=3, min_child_weight=1,\n",
              "                                           missing=None, n_estimators=100,\n",
              "                                           n_jobs=1, nthread=None,\n",
              "                                           objective='binary:logistic',\n",
              "                                           random_state=0, reg_alpha=0,\n",
              "                                           reg_lambda=1...\n",
              "                                           seed=None, silent=None, subsample=1,\n",
              "                                           verbosity=1),\n",
              "                   iid='deprecated', n_iter=10, n_jobs=-1,\n",
              "                   param_distributions={'colsample_bytree': [0.1, 0.3, 0.5, 1],\n",
              "                                        'learning_rate': [0.01, 0.03, 0.05, 0.1,\n",
              "                                                          0.15, 0.2],\n",
              "                                        'max_depth': [3, 5, 10],\n",
              "                                        'n_estimators': [100, 200, 500, 1000,\n",
              "                                                         2000],\n",
              "                                        'subsample': [0.1, 0.3, 0.5, 1]},\n",
              "                   pre_dispatch='2*n_jobs', random_state=None, refit=True,\n",
              "                   return_train_score=False, scoring='f1', verbose=10)"
            ]
          },
          "metadata": {
            "tags": []
          },
          "execution_count": 233
        }
      ]
    },
    {
      "cell_type": "code",
      "metadata": {
        "id": "p9ug4WV_wvh-",
        "outputId": "551f86fa-7cf9-4f69-a4da-2a972efc72bf",
        "colab": {
          "base_uri": "https://localhost:8080/",
          "height": 34
        }
      },
      "source": [
        "print (random_cfl1.best_params_)"
      ],
      "execution_count": null,
      "outputs": [
        {
          "output_type": "stream",
          "text": [
            "{'subsample': 0.5, 'n_estimators': 2000, 'max_depth': 5, 'learning_rate': 0.05, 'colsample_bytree': 1}\n"
          ],
          "name": "stdout"
        }
      ]
    },
    {
      "cell_type": "code",
      "metadata": {
        "id": "DNoVdpB4ZeZk",
        "outputId": "0d910aab-16d2-4f6f-817e-d3fd478621ac",
        "colab": {
          "base_uri": "https://localhost:8080/",
          "height": 1000
        }
      },
      "source": [
        "x_cfl_h=XGBClassifier(n_estimators=2000,subsample=0.5,max_depth=5,learning_rate=0.05,colsample_bytree=1,scale_pos_weight=10)\n",
        "x_cfl_h.fit(X_train_XGB, y_train)\n",
        "sig_clf_h = CalibratedClassifierCV(x_cfl_h, method=\"isotonic\")\n",
        "sig_clf_h.fit(X_train_XGB, y_train)\n",
        "\n",
        "#displaying the perfomance metric for train,cv and test data\n",
        "print('\\n Predicting F1 score for train,cv and test data with best hyperparameter \\n')\n",
        "pred_y_train =sig_clf_h.predict(X_train_XGB)\n",
        "print ('F1 score for train data',f1_score(y_train, pred_y_train,average='binary' ))\n",
        "pred_y_cv = sig_clf_h.predict(X_cv_XGB)\n",
        "print ('F1_score for cv data',f1_score(y_cv, pred_y_cv, average='binary'))\n",
        "pred_y_test = sig_clf_h.predict(X_test_XGB)\n",
        "print ('F1_score for test data',f1_score(y_test, pred_y_test, average='binary'))\n",
        "print('*'*100)\n",
        "print(\"Confusion Matrix for the Train Data \",'\\n')\n",
        "confusion_mat(y_train,pred_y_train)\n",
        "print('*'*100)\n",
        "print(\"Confusion Matrix for the Test Data \",'\\n')\n",
        "confusion_mat(y_test,pred_y_test)\n",
        "print('*'*100)"
      ],
      "execution_count": null,
      "outputs": [
        {
          "output_type": "stream",
          "text": [
            "\n",
            " Predicting F1 score for train,cv and test data with best hyperparameter \n",
            "\n",
            "F1 score for train data 1.0\n",
            "F1_score for cv data 0.8141592920353983\n",
            "F1_score for test data 0.8254847645429363\n",
            "****************************************************************************************************\n",
            "Confusion Matrix for the Train Data  \n",
            "\n",
            "Percentage of misclassified points  0.0\n"
          ],
          "name": "stdout"
        },
        {
          "output_type": "display_data",
          "data": {
            "image/png": "[encoded data removed]",
            "text/plain": [
              "<Figure size 432x432 with 2 Axes>"
            ]
          },
          "metadata": {
            "tags": [],
            "needs_background": "light"
          }
        },
        {
          "output_type": "stream",
          "text": [
            "****************************************************************************************************\n",
            "Confusion Matrix for the Test Data  \n",
            "\n",
            "Percentage of misclassified points  0.525\n"
          ],
          "name": "stdout"
        },
        {
          "output_type": "display_data",
          "data": {
            "image/png": "[encoded data removed]",
            "text/plain": [
              "<Figure size 432x432 with 2 Axes>"
            ]
          },
          "metadata": {
            "tags": [],
            "needs_background": "light"
          }
        },
        {
          "output_type": "stream",
          "text": [
            "****************************************************************************************************\n"
          ],
          "name": "stdout"
        }
      ]
    }
  ]
}