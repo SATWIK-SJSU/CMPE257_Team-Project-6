{
  "nbformat": 4,
  "nbformat_minor": 0,
  "metadata": {
    "colab": {
      "provenance": [],
      "machine_shape": "hm"
    },
    "kernelspec": {
      "name": "python3",
      "display_name": "Python 3"
    },
    "widgets": {
      "application/vnd.jupyter.widget-state+json": {
        "f33b3ce4d9dc4f689e6ab2ecaf148eb7": {
          "model_module": "@jupyter-widgets/controls",
          "model_name": "HBoxModel",
          "state": {
            "_view_name": "HBoxView",
            "_dom_classes": [],
            "_model_name": "HBoxModel",
            "_view_module": "@jupyter-widgets/controls",
            "_model_module_version": "1.5.0",
            "_view_count": null,
            "_view_module_version": "1.5.0",
            "box_style": "",
            "layout": "IPY_MODEL_0ec1a486fde74ceeafcf1a439e0b94da",
            "_model_module": "@jupyter-widgets/controls",
            "children": [
              "IPY_MODEL_0f6d006ed3d447ec9704e0f24c6d8f58",
              "IPY_MODEL_2bff88df3ee3499bab358c402ad4855a"
            ]
          },
          "model_module_version": "1.5.0"
        },
        "0ec1a486fde74ceeafcf1a439e0b94da": {
          "model_module": "@jupyter-widgets/base",
          "model_name": "LayoutModel",
          "state": {
            "_view_name": "LayoutView",
            "grid_template_rows": null,
            "right": null,
            "justify_content": null,
            "_view_module": "@jupyter-widgets/base",
            "overflow": null,
            "_model_module_version": "1.2.0",
            "_view_count": null,
            "flex_flow": null,
            "width": null,
            "min_width": null,
            "border": null,
            "align_items": null,
            "bottom": null,
            "_model_module": "@jupyter-widgets/base",
            "top": null,
            "grid_column": null,
            "overflow_y": null,
            "overflow_x": null,
            "grid_auto_flow": null,
            "grid_area": null,
            "grid_template_columns": null,
            "flex": null,
            "_model_name": "LayoutModel",
            "justify_items": null,
            "grid_row": null,
            "max_height": null,
            "align_content": null,
            "visibility": null,
            "align_self": null,
            "height": null,
            "min_height": null,
            "padding": null,
            "grid_auto_rows": null,
            "grid_gap": null,
            "max_width": null,
            "order": null,
            "_view_module_version": "1.2.0",
            "grid_template_areas": null,
            "object_position": null,
            "object_fit": null,
            "grid_auto_columns": null,
            "margin": null,
            "display": null,
            "left": null
          },
          "model_module_version": "1.2.0"
        },
        "0f6d006ed3d447ec9704e0f24c6d8f58": {
          "model_module": "@jupyter-widgets/controls",
          "model_name": "FloatProgressModel",
          "state": {
            "_view_name": "ProgressView",
            "style": "IPY_MODEL_0014e7b295844cb2a5bb031dd08256eb",
            "_dom_classes": [],
            "description": "100%",
            "_model_name": "FloatProgressModel",
            "bar_style": "success",
            "max": 7,
            "_view_module": "@jupyter-widgets/controls",
            "_model_module_version": "1.5.0",
            "value": 7,
            "_view_count": null,
            "_view_module_version": "1.5.0",
            "orientation": "horizontal",
            "min": 0,
            "description_tooltip": null,
            "_model_module": "@jupyter-widgets/controls",
            "layout": "IPY_MODEL_3673a13d0c3947cb950e9478db00e122"
          },
          "model_module_version": "1.5.0"
        },
        "2bff88df3ee3499bab358c402ad4855a": {
          "model_module": "@jupyter-widgets/controls",
          "model_name": "HTMLModel",
          "state": {
            "_view_name": "HTMLView",
            "style": "IPY_MODEL_9cc2a628a52a4883aa1595b721fdb69f",
            "_dom_classes": [],
            "description": "",
            "_model_name": "HTMLModel",
            "placeholder": "​",
            "_view_module": "@jupyter-widgets/controls",
            "_model_module_version": "1.5.0",
            "value": " 7/7 [00:02&lt;00:00,  2.50it/s]",
            "_view_count": null,
            "_view_module_version": "1.5.0",
            "description_tooltip": null,
            "_model_module": "@jupyter-widgets/controls",
            "layout": "IPY_MODEL_140bb93dd19e4616b1b976efd4ea903f"
          },
          "model_module_version": "1.5.0"
        },
        "0014e7b295844cb2a5bb031dd08256eb": {
          "model_module": "@jupyter-widgets/controls",
          "model_name": "ProgressStyleModel",
          "state": {
            "_view_name": "StyleView",
            "_model_name": "ProgressStyleModel",
            "description_width": "initial",
            "_view_module": "@jupyter-widgets/base",
            "_model_module_version": "1.5.0",
            "_view_count": null,
            "_view_module_version": "1.2.0",
            "bar_color": null,
            "_model_module": "@jupyter-widgets/controls"
          },
          "model_module_version": "1.5.0"
        },
        "3673a13d0c3947cb950e9478db00e122": {
          "model_module": "@jupyter-widgets/base",
          "model_name": "LayoutModel",
          "state": {
            "_view_name": "LayoutView",
            "grid_template_rows": null,
            "right": null,
            "justify_content": null,
            "_view_module": "@jupyter-widgets/base",
            "overflow": null,
            "_model_module_version": "1.2.0",
            "_view_count": null,
            "flex_flow": null,
            "width": null,
            "min_width": null,
            "border": null,
            "align_items": null,
            "bottom": null,
            "_model_module": "@jupyter-widgets/base",
            "top": null,
            "grid_column": null,
            "overflow_y": null,
            "overflow_x": null,
            "grid_auto_flow": null,
            "grid_area": null,
            "grid_template_columns": null,
            "flex": null,
            "_model_name": "LayoutModel",
            "justify_items": null,
            "grid_row": null,
            "max_height": null,
            "align_content": null,
            "visibility": null,
            "align_self": null,
            "height": null,
            "min_height": null,
            "padding": null,
            "grid_auto_rows": null,
            "grid_gap": null,
            "max_width": null,
            "order": null,
            "_view_module_version": "1.2.0",
            "grid_template_areas": null,
            "object_position": null,
            "object_fit": null,
            "grid_auto_columns": null,
            "margin": null,
            "display": null,
            "left": null
          },
          "model_module_version": "1.2.0"
        },
        "9cc2a628a52a4883aa1595b721fdb69f": {
          "model_module": "@jupyter-widgets/controls",
          "model_name": "DescriptionStyleModel",
          "state": {
            "_view_name": "StyleView",
            "_model_name": "DescriptionStyleModel",
            "description_width": "",
            "_view_module": "@jupyter-widgets/base",
            "_model_module_version": "1.5.0",
            "_view_count": null,
            "_view_module_version": "1.2.0",
            "_model_module": "@jupyter-widgets/controls"
          },
          "model_module_version": "1.5.0"
        },
        "140bb93dd19e4616b1b976efd4ea903f": {
          "model_module": "@jupyter-widgets/base",
          "model_name": "LayoutModel",
          "state": {
            "_view_name": "LayoutView",
            "grid_template_rows": null,
            "right": null,
            "justify_content": null,
            "_view_module": "@jupyter-widgets/base",
            "overflow": null,
            "_model_module_version": "1.2.0",
            "_view_count": null,
            "flex_flow": null,
            "width": null,
            "min_width": null,
            "border": null,
            "align_items": null,
            "bottom": null,
            "_model_module": "@jupyter-widgets/base",
            "top": null,
            "grid_column": null,
            "overflow_y": null,
            "overflow_x": null,
            "grid_auto_flow": null,
            "grid_area": null,
            "grid_template_columns": null,
            "flex": null,
            "_model_name": "LayoutModel",
            "justify_items": null,
            "grid_row": null,
            "max_height": null,
            "align_content": null,
            "visibility": null,
            "align_self": null,
            "height": null,
            "min_height": null,
            "padding": null,
            "grid_auto_rows": null,
            "grid_gap": null,
            "max_width": null,
            "order": null,
            "_view_module_version": "1.2.0",
            "grid_template_areas": null,
            "object_position": null,
            "object_fit": null,
            "grid_auto_columns": null,
            "margin": null,
            "display": null,
            "left": null
          },
          "model_module_version": "1.2.0"
        }
      }
    }
  },
  "cells": [
    {
      "cell_type": "markdown",
      "metadata": {
        "id": "PD0flZTiPg-7"
      },
      "source": [
        "# Modelling"
      ]
    },
    {
      "cell_type": "code",
      "metadata": {
        "id": "sTwQDs6irF6E"
      },
      "source": [
        "def confusion_mat(test_y,predict_y):\n",
        "    ''' Function to Visualize the Confusion Matrix'''\n",
        "\n",
        "    labels = [0,1]\n",
        "    plt.figure(figsize=(6,6))\n",
        "    cmap=sns.light_palette(\"blue\")\n",
        "    C = confusion_matrix(test_y, predict_y)\n",
        "    print(\"Percentage of misclassified points \",(len(test_y)-np.trace(C))/len(test_y)*100)\n",
        "    sns.heatmap(C, cmap=\"Blues\",annot=True,annot_kws={\"size\": 16},fmt='g')\n",
        "    plt.xlabel('Predicted Class')\n",
        "    plt.ylabel('Original Class')\n",
        "    plt.title('Confusion matrix')\n",
        "\n",
        "    plt.show()"
      ],
      "execution_count": null,
      "outputs": []
    },
    {
      "cell_type": "markdown",
      "metadata": {
        "id": "aOT1-oJz6nDj"
      },
      "source": [
        "## Support Vector Machine"
      ]
    },
    {
      "cell_type": "code",
      "metadata": {
        "id": "xjvOkou06wBt",
        "outputId": "8ef16ccf-0ced-47ea-b337-03d3955c2328",
        "colab": {
          "base_uri": "https://localhost:8080/",
          "height": 1000,
          "referenced_widgets": [
            "f33b3ce4d9dc4f689e6ab2ecaf148eb7",
            "0ec1a486fde74ceeafcf1a439e0b94da",
            "0f6d006ed3d447ec9704e0f24c6d8f58",
            "2bff88df3ee3499bab358c402ad4855a",
            "0014e7b295844cb2a5bb031dd08256eb",
            "3673a13d0c3947cb950e9478db00e122",
            "9cc2a628a52a4883aa1595b721fdb69f",
            "140bb93dd19e4616b1b976efd4ea903f"
          ]
        }
      },
      "source": [
        "#Setting the range of hyperparameters to select from\n",
        "alpha = [0.0001, 0.001, 0.1, 1, 10, 100,1000]\n",
        "\n",
        "#storing all the Cross validation f1 scores\n",
        "cv_f1score_array=[]\n",
        "for i in tqdm(alpha):\n",
        "    svm=SGDClassifier(alpha=i,loss='hinge',class_weight='balanced')\n",
        "    svm.fit(X_train,y_train)\n",
        "    predict_y =svm.predict(X_cv)\n",
        "    cv_f1score_array.append(f1_score(y_cv, predict_y,average='binary'))\n",
        "#displaying the F1 score for all hyperparameters\n",
        "for i in range(len(cv_f1score_array)):\n",
        "    print ('F1 score for : {} is {} '.format(alpha[i],cv_f1score_array[i]))\n",
        "\n",
        "#The best K after hyperparameter tuning\n",
        "best_alpha= np.argmax(cv_f1score_array)\n",
        "\n",
        "\n",
        "print( '\\n  Best alpha (hyperparameter) :',alpha[best_alpha]  ,'\\n')\n",
        "\n",
        "#plotting the changes of the performance metric with best hyperparameter\n",
        "fig, ax = plt.subplots()\n",
        "\n",
        "#plotting hyperparameter vs/s F1 score  graph\n",
        "ax.plot(alpha, cv_f1score_array)\n",
        "for i, txt in enumerate(np.round(cv_f1score_array,3)):\n",
        "    ax.annotate((alpha[i],np.round(txt,3)), (alpha[i],cv_f1score_array[i]))\n",
        "plt.grid()\n",
        "plt.title(\"Cross Validation F1 score for each alpha\")\n",
        "plt.xlabel(\"Alpha i's\")\n",
        "plt.ylabel(\"F1 score \")\n",
        "plt.show()\n",
        "\n",
        "#fitting the classifier with best hyperparameter\n",
        "svm=SGDClassifier(alpha=alpha[best_alpha],loss='hinge',class_weight='balanced')\n",
        "svm.fit(X_train,y_train)\n",
        "\n",
        "#predicting actual labels\n",
        "pred_y=svm.predict(X_test)\n",
        "\n",
        "#displaying the perfomance metric for train,cv and test data\n",
        "print('\\n Predicting F1 score for train,cv and test data with best hyperparameter \\n')\n",
        "pred_y_train = svm.predict(X_train)\n",
        "print ('F1 score for train data : ',f1_score(y_train, pred_y_train,average='binary' ))\n",
        "pred_y_cv = svm.predict(X_cv)\n",
        "print ('F1_score for cv data : ',f1_score(y_cv, pred_y_cv, average='binary'))\n",
        "pred_y_test = svm.predict(X_test)\n",
        "print ('F1_score for test data : ',f1_score(y_test, pred_y_test, average='binary'))\n",
        "print('*'*100)\n",
        "print(\"Confusion Matrix for the Train Data \",'\\n')\n",
        "confusion_mat(y_train,pred_y_train)\n",
        "print('*'*100)\n",
        "print(\"Confusion Matrix for the Test Data \",'\\n')\n",
        "confusion_mat(y_test,pred_y_test)\n",
        "print('*'*100)"
      ],
      "execution_count": null,
      "outputs": [
        {
          "output_type": "display_data",
          "data": {
            "application/vnd.jupyter.widget-view+json": {
              "model_id": "f33b3ce4d9dc4f689e6ab2ecaf148eb7",
              "version_minor": 0,
              "version_major": 2
            },
            "text/plain": [
              "HBox(children=(FloatProgress(value=0.0, max=7.0), HTML(value='')))"
            ]
          },
          "metadata": {
            "tags": []
          }
        },
        {
          "output_type": "stream",
          "text": [
            "\n",
            "F1 score for : 0.0001 is 0.40071556350626125 \n",
            "F1 score for : 0.001 is 0.44989775051124753 \n",
            "F1 score for : 0.1 is 0.37924151696606784 \n",
            "F1 score for : 1 is 0.18884892086330937 \n",
            "F1 score for : 10 is 0.0 \n",
            "F1 score for : 100 is 0.0 \n",
            "F1 score for : 1000 is 0.0 \n",
            "\n",
            "  Best alpha (hyperparameter) : 0.001 \n",
            "\n"
          ],
          "name": "stdout"
        },
        {
          "output_type": "display_data",
          "data": {
            "image/png": "[encoded data removed]",
            "text/plain": [
              "<Figure size 432x288 with 1 Axes>"
            ]
          },
          "metadata": {
            "tags": [],
            "needs_background": "light"
          }
        },
        {
          "output_type": "stream",
          "text": [
            "\n",
            " Predicting F1 score for train,cv and test data with best hyperparameter \n",
            "\n",
            "F1 score for train data :  0.8037443511943191\n",
            "F1_score for cv data :  0.4172932330827067\n",
            "F1_score for test data :  0.4457547169811321\n",
            "****************************************************************************************************\n",
            "Confusion Matrix for the Train Data  \n",
            "\n",
            "Percentage of misclassified points  4.133055379316596\n"
          ],
          "name": "stdout"
        },
        {
          "output_type": "display_data",
          "data": {
            "image/png": "[encoded data removed]",
            "text/plain": [
              "<Figure size 432x432 with 2 Axes>"
            ]
          },
          "metadata": {
            "tags": [],
            "needs_background": "light"
          }
        },
        {
          "output_type": "stream",
          "text": [
            "****************************************************************************************************\n",
            "Confusion Matrix for the Test Data  \n",
            "\n",
            "Percentage of misclassified points  3.916666666666667\n"
          ],
          "name": "stdout"
        },
        {
          "output_type": "display_data",
          "data": {
            "image/png": "[encoded data removed]",
            "text/plain": [
              "<Figure size 432x432 with 2 Axes>"
            ]
          },
          "metadata": {
            "tags": [],
            "needs_background": "light"
          }
        },
        {
          "output_type": "stream",
          "text": [
            "****************************************************************************************************\n"
          ],
          "name": "stdout"
        }
      ]
    }
  ]
}